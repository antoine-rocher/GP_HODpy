{
 "cells": [
  {
   "cell_type": "code",
   "execution_count": 6,
   "id": "23c0d355-b079-44b8-91f7-43a5bb8bc41c",
   "metadata": {},
   "outputs": [],
   "source": [
    "import HOD_code_new as HOD\n",
    "import sys\n",
    "import matplotlib.pyplot as plt\n",
    "import numpy as np\n",
    "import numba\n",
    "\n",
    "# Parameters need for HOD \n",
    "argAll = {'hcat_dir': '/global/cscratch1/sd/arocher/data_cat/',\n",
    "          'sim_name': 'MDPL2_z1.172.csv',\n",
    "          'z_simu': 1.172,\n",
    "          'rsd': True,\n",
    "          'Om_M': 0.307115,\n",
    "          'Om_L': 0.692885,\n",
    "          'h0': 0.6777,\n",
    "          'sigma_8': 0.807, \n",
    "          'boxsize': 1000,\n",
    "          'nthreads': numba.get_num_threads(),\n",
    "          'HOD_model': 'GHOD',\n",
    "          'log_Mcent': 11.63,\n",
    "          'Ac': 0.05,\n",
    "          'sigma_M': 0.12,\n",
    "          'As': 0.11,\n",
    "          'alpha': 0.6,\n",
    "          'gamma': 1,\n",
    "          'M_0': 11.63,\n",
    "          'M_1': 11.7,\n",
    "          'Q': 100,\n",
    "          'pmax': 0.1,\n",
    "          'satellites': True,\n",
    "          'mu_max': 1,\n",
    "          'n_mu_bins': 101,\n",
    "          'n_r_bins': 25,\n",
    "          'n_rp_bins':25, \n",
    "          'rmin': 0.8,\n",
    "          'rmax': 30,\n",
    "          'rp_min': 0.03,\n",
    "          'rp_max': 30,\n",
    "          'bin_logscale' : True,\n",
    "          'vel_sat' : 'rd_normal',\n",
    "          'nb_ligne': 0,\n",
    "          'use_shift' :'Y',\n",
    "          'shift_M_0' : 0,\n",
    "          'shift_M_1' :0.3,\n",
    "          'path_to_NFW_draw': '/feynman/home/dphp/ar264273/scratch.ln/nfw.npy',\n",
    "          'seed':42,\n",
    "          'density': 1e-3, \n",
    "          'f_sigv': 1,\n",
    "          'nb_real': 20,\n",
    "          'path_to_lhspoint':'/global/homes/a/arocher/data_output/lhs/', \n",
    "          'fit_type': 'wp',\n",
    "          'multipole_index': (0,2),\n",
    "          'subsample_halos': False, \n",
    "          'use_particles': False, \n",
    "          'c_proxy': 0,\n",
    "          'add_fsat': False,\n",
    "          'fsat': 0.02,\n",
    "          'conformity_bias': False, \n",
    "          'edges_rppi': None,\n",
    "          'edges_smu': None,\n",
    "          'los': 'z',\n",
    "          'assembly_bias': 'env'}\n",
    "\n",
    "\n",
    "argAll['H_0'] = 100\n",
    "c = 299792.458  # light speed km*s^-1\n",
    "argAll['Dh']  = c/argAll['H_0']      #Mpc/h\n",
    "argAll['data_dir'] = str(sys.path[0])+\"/\"\n",
    "argAll['Om_M'] = 0.315192\n",
    "argAll['Om_L'] = 0.692885\n",
    "argAll['h0'] = 0.6777\n",
    "argAll['sim_name'] = \"AbacusSummit_base_c000_ph000\"\n",
    "argAll['z_simu'] = 1.1\n",
    "\n",
    "\n",
    "\n"
   ]
  },
  {
   "cell_type": "code",
   "execution_count": 16,
   "id": "0b73a767-c755-44e3-8174-05c610b17e58",
   "metadata": {},
   "outputs": [
    {
     "name": "stdout",
     "output_type": "stream",
     "text": [
      "WARNING COSMOLOGY SET WITH Om=0.315192 and sigma8 =0.807 FOR RESHIFT DISTANCE CONVERSION\n"
     ]
    }
   ],
   "source": [
    "# Load halo catalog need to be a dict type\n",
    "path_to_hcat = \"../../scratch/hcat_1gpc_c000_ph000_(0,0,0).npy\"\n",
    "halo_cat = np.load(path_to_hcat, allow_pickle=True)[()]\n",
    "\n",
    "#Halo catalog need to have these columns names ['row_id', \"Mvir\", \"Rvir\", \"Rs\", \"x\", \"y\",\"z\", \"vx\", \"vy\", \"vz\", \"Vrms\"]\n",
    "halo_cat.keys()\n",
    "\n",
    "#Initialize HOD object with pre load halo_catalog\n",
    "HOD_obj = HOD.HOD_parallel(argAll, hcat=halo_cat, mass_cut=None)\n",
    "\n",
    "#Provide DESI fiducial cosmology or automatically set cosmology to the given Omega_M and sigma_8 input parameters in argAll \n",
    "from cosmoprimo.fiducial import DESI\n",
    "cosmo = DESI(engine='class')\n",
    "HOD_obj.cosmo = cosmo"
   ]
  },
  {
   "cell_type": "code",
   "execution_count": 17,
   "id": "20cce4e2-f27e-4123-a91d-925aa6b8c371",
   "metadata": {
    "tags": []
   },
   "outputs": [
    {
     "data": {
      "text/plain": [
       "{'x': array([2.9992360e-01, 1.1942745e-01, 9.4614461e-02, ..., 9.9962720e+02,\n",
       "        9.9966962e+02, 9.9944513e+02], dtype=float32),\n",
       " 'y': array([471.92624, 611.4984 , 611.68744, ..., 999.6114 , 999.38635,\n",
       "        998.98157], dtype=float32),\n",
       " 'z': array([ 34.3071 , 999.7398 , 999.4604 , ..., 833.73956, 833.86914,\n",
       "        966.6535 ], dtype=float32),\n",
       " 'vx': array([-179.74086 , -833.6455  , -641.8914  , ...,  126.51511 ,\n",
       "         203.05748 ,   33.773464], dtype=float32),\n",
       " 'vy': array([-331.4282 ,  966.97345, -671.24384, ...,   25.18138,  206.95482,\n",
       "         124.68411], dtype=float32),\n",
       " 'vz': array([ -351.14542 , -1263.4354  ,   392.67154 , ...,  -334.3336  ,\n",
       "         -222.33948 ,    75.602936], dtype=float32),\n",
       " 'Rs': array([56.45221 , 77.582054, 58.100243, ..., 57.55317 , 21.719337,\n",
       "        35.187683], dtype=float32),\n",
       " 'Rvir': array([127.903984, 189.21431 , 139.14464 , ..., 147.6236  ,  99.79649 ,\n",
       "         97.09795 ], dtype=float32),\n",
       " 'c': array([2.2657037, 2.4388928, 2.3949063, ..., 2.564995 , 4.5948224,\n",
       "        2.7594302], dtype=float32),\n",
       " 'Mvir': array([1.6872651e+11, 5.4625210e+11, 2.1723539e+11, ..., 2.5941701e+11,\n",
       "        8.0145097e+10, 7.3817850e+10], dtype=float32),\n",
       " 'log10_Mh': array([11.227183, 11.737393, 11.33693 , ..., 11.413999, 10.903877,\n",
       "        10.868161], dtype=float32),\n",
       " 'Vrms': array([246.97073 , 886.36194 , 650.6542  , ..., 146.48508 ,  99.43898 ,\n",
       "         90.438225], dtype=float32),\n",
       " 'row_id': array([ 84612510879004013,  84713681698001022,  84713681698001034, ...,\n",
       "        170017001559001001, 170017001559001003, 170017001672000000],\n",
       "       dtype=uint64),\n",
       " 'weight': array([1., 1., 1., ..., 1., 1., 1.], dtype=float32)}"
      ]
     },
     "execution_count": 17,
     "metadata": {},
     "output_type": "execute_result"
    }
   ],
   "source": [
    "#print halo catalog \n",
    "HOD_obj.hcat"
   ]
  },
  {
   "cell_type": "code",
   "execution_count": 19,
   "id": "702f7619-ed87-4fd6-a37f-0765c8588a97",
   "metadata": {},
   "outputs": [],
   "source": [
    "hcat = HOD_obj.downsample_mock_cat(HOD_obj.hcat, ds_fac=0.5)"
   ]
  },
  {
   "cell_type": "code",
   "execution_count": 9,
   "id": "6be10970-76aa-4e7e-9363-1ac97f81a184",
   "metadata": {},
   "outputs": [
    {
     "name": "stdout",
     "output_type": "stream",
     "text": [
      "4.352664947509766\n"
     ]
    },
    {
     "data": {
      "text/plain": [
       "(2128768.1497705635, 0.530115054785813)"
      ]
     },
     "execution_count": 9,
     "metadata": {},
     "output_type": "execute_result"
    }
   ],
   "source": [
    "# Get ngal and fsat from HOD input paramaters\n",
    "HOD_obj.ngal"
   ]
  },
  {
   "cell_type": "code",
   "execution_count": 21,
   "id": "20af91d6-be51-4eaa-b397-aef47e9616e7",
   "metadata": {},
   "outputs": [
    {
     "name": "stdout",
     "output_type": "stream",
     "text": [
      "gen proba 0.5841004848480225\n",
      "gen satellites  1.121605634689331\n",
      "overall time  1.7192413806915283\n",
      "number of central galaxies  549328\n",
      "number of satellite galaxies  450614\n",
      "satellite fraction  0.4506401371279534\n",
      "#Computing wp...\n",
      "#wp computed !time = 0.29271912574768066\n",
      "#Computing 2PCF...\n",
      "#2PCF computed !time = 0.2690238952636719\n"
     ]
    }
   ],
   "source": [
    "# Generate mock catalog\n",
    "mock_cat = HOD_obj.make_mock_cat(fix_seed=None)\n",
    "\n",
    "# Compute 2PCF and wp\n",
    "rp, wp = HOD_obj.get_wp(mock_cat)\n",
    "s, xi = HOD_obj.get_2PCF(mock_cat)\n"
   ]
  },
  {
   "cell_type": "code",
   "execution_count": 22,
   "id": "7e9ff4ee-d89b-464b-b9c6-79eb39e43554",
   "metadata": {},
   "outputs": [
    {
     "data": {
      "image/png": "[encoded data removed]",
      "text/plain": [
       "<Figure size 432x288 with 1 Axes>"
      ]
     },
     "metadata": {
      "needs_background": "light"
     },
     "output_type": "display_data"
    }
   ],
   "source": [
    "#Plot HMF\n",
    "plt.hist(np.log10(mock_cat['Mvir']), bins=100, alpha=0.5)\n",
    "plt.yscale('log')"
   ]
  },
  {
   "cell_type": "code",
   "execution_count": 23,
   "id": "8f089d27-ec4f-426f-a18d-d84d3081d09b",
   "metadata": {},
   "outputs": [
    {
     "data": {
      "image/png": "[encoded data removed]",
      "text/plain": [
       "<Figure size 1080x360 with 3 Axes>"
      ]
     },
     "metadata": {
      "needs_background": "light"
     },
     "output_type": "display_data"
    }
   ],
   "source": [
    "#Plot clustering\n",
    "fig, axx = plt.subplots(1,3, figsize = (15, 5))\n",
    "\n",
    "lax= axx.flatten()\n",
    "ill = 0\n",
    "for ax, xii_l in zip(axx[:2], xi):\n",
    "    ax.plot(s, s*xii_l)\n",
    "    ax.set_xlabel('$s$ ($h^{-1}$Mpc)', fontsize=15)\n",
    "    ax.set_ylabel(f'$s \\\\xi_{{{ill}}}$ ($h^{{-2}}$Mpc$^2$)', fontsize=15)\n",
    "    ax.set_xscale('log')\n",
    "    ill+=2\n",
    "        \n",
    "ax = axx[-1]    \n",
    "ax.plot(rp, rp*wp)\n",
    "ax.set_xlabel('$r_p$ ($h^{-1}$Mpc)', fontsize=15)\n",
    "ax.set_ylabel('$r_p w_p$ ($h^{-1}\\cdot$Mpc)', fontsize=15)\n",
    "ax.set_xscale('log')\n"
   ]
  },
  {
   "cell_type": "code",
   "execution_count": 15,
   "id": "4bf839b3-3a2d-4bc2-9478-b5a846b94597",
   "metadata": {},
   "outputs": [
    {
     "data": {
      "text/plain": [
       "\u001b[0;31mSignature:\u001b[0m \u001b[0mHOD_obj\u001b[0m\u001b[0;34m.\u001b[0m\u001b[0msave_cat\u001b[0m\u001b[0;34m(\u001b[0m\u001b[0mfn\u001b[0m\u001b[0;34m,\u001b[0m \u001b[0mcat\u001b[0m\u001b[0;34m,\u001b[0m \u001b[0;34m**\u001b[0m\u001b[0mkwargs\u001b[0m\u001b[0;34m)\u001b[0m\u001b[0;34m\u001b[0m\u001b[0;34m\u001b[0m\u001b[0m\n",
       "\u001b[0;31mDocstring:\u001b[0m --- Save to mock catalog to fits file\n",
       "\u001b[0;31mFile:\u001b[0m      ~/Code/pyHOD/HOD_code_new.py\n",
       "\u001b[0;31mType:\u001b[0m      method\n"
      ]
     },
     "metadata": {},
     "output_type": "display_data"
    }
   ],
   "source": [
    "HOD_obj.save_cat('halo_catalog_test.fits', HOD_obj.hcat)"
   ]
  }
 ],
 "metadata": {
  "kernelspec": {
   "display_name": "cosmodesi-main",
   "language": "python",
   "name": "cosmodesi-main"
  },
  "language_info": {
   "codemirror_mode": {
    "name": "ipython",
    "version": 3
   },
   "file_extension": ".py",
   "mimetype": "text/x-python",
   "name": "python",
   "nbconvert_exporter": "python",
   "pygments_lexer": "ipython3",
   "version": "3.9.13"
  }
 },
 "nbformat": 4,
 "nbformat_minor": 5
}
